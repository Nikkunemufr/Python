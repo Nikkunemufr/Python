{
 "cells": [
  {
   "cell_type": "markdown",
   "metadata": {},
   "source": [
    "TP 3 : Validation croisée\n",
    "======="
   ]
  },
  {
   "cell_type": "markdown",
   "metadata": {},
   "source": [
    "1 - Introduction \n",
    "------\n",
    "\n",
    "L'objectif de ce TP est de classer une base de données radar. Il sera à réaliser en python 3. Les librairies utilisées sont installées sur les machines de l'université, vous pouvez néanmoins les installer sur vos propres machines à l'aide de l'utilitaire pip présent par défaut avec python.\n",
    "\t\n",
    "N'hésitez pas à regarder régulièrement la documentation de ces librairies, des exemples d'utilisation accompagnent généralement l'explication de chaque fonction.\n",
    "\n",
    "- Python 3: https://docs.python.org/3/\n",
    "- Numpy: https://docs.scipy.org/doc/numpy/reference/\n",
    "- Scipy: https://docs.scipy.org/doc/scipy/reference/\n",
    "- Matplotilb: https://matplotlib.org/contents.html\n",
    "- Scikit-learn: http://scikit-learn.org"
   ]
  },
  {
   "cell_type": "code",
   "execution_count": 1,
   "metadata": {},
   "outputs": [],
   "source": [
    "import numpy as np\n",
    "from matplotlib import pyplot as plt\n",
    "\n",
    "from sklearn.model_selection import train_test_split\n",
    "from sklearn import svm\n",
    "from sklearn.metrics import *\n",
    "from sklearn.model_selection import GridSearchCV"
   ]
  },
  {
   "cell_type": "markdown",
   "metadata": {},
   "source": [
    "La base de donnée que vous étudierez est la base Ionosphere (http://archive.ics.uci.edu/ml/datasets/Ionosphere ). Vous pouvez la télécharger sur la page web de la base de données (http://archive.ics.uci.edu/ml/machine-learning-databases/ionosphere/ionosphere.data ).\n",
    "\n",
    "La base Ionosphere contient 351 mesures radars. Chaque mesure est décrite par un descripteur de 34 dimensions. L'objectif est de détecter la présence ou non d'électron libre dans l'ionosphère. Pour plus de détail sur la base, vous pourrez vous référer à la description donnée par la page web de cette dernière."
   ]
  },
  {
   "cell_type": "markdown",
   "metadata": {},
   "source": [
    "2 - Lecture de la base de donnée\n",
    "----"
   ]
  },
  {
   "cell_type": "markdown",
   "metadata": {},
   "source": [
    "### 2.1 - Lecture des fichiers"
   ]
  },
  {
   "cell_type": "markdown",
   "metadata": {},
   "source": [
    "Nous allons dans cette partie lire les données de la base de donnée. Commencez par télécharger le fichier de la base. Ce fichier contient une ligne par exemple et 35 colonnes pour le décrire. La dernière colonne est une lettre donnant la classe de l'exemple, 'g' pour good et 'b' pour bad. En utlisant la fonction `np.genfromtxt` (https://docs.scipy.org/doc/numpy/reference/generated/numpy.genfromtxt.html ), lisez le fichier de données et construisez de tableau `X` et `y` contenant respectivement les données radar et les labels."
   ]
  },
  {
   "cell_type": "code",
   "execution_count": 6,
   "metadata": {},
   "outputs": [],
   "source": [
    "data = np.genfromtxt('ionosphere.data',delimiter=\",\" )"
   ]
  },
  {
   "cell_type": "code",
   "execution_count": 3,
   "metadata": {},
   "outputs": [
    {
     "data": {
      "text/plain": [
       "array([[ 1.     ,  0.     ,  0.99539, ...,  0.18641, -0.453  ,      nan],\n",
       "       [ 1.     ,  0.     ,  1.     , ..., -0.13738, -0.02447,      nan],\n",
       "       [ 1.     ,  0.     ,  1.     , ...,  0.56045, -0.38238,      nan],\n",
       "       ...,\n",
       "       [ 1.     ,  0.     ,  0.94701, ...,  0.92697, -0.00577,      nan],\n",
       "       [ 1.     ,  0.     ,  0.90608, ...,  0.87403, -0.16243,      nan],\n",
       "       [ 1.     ,  0.     ,  0.8471 , ...,  0.85764, -0.06151,      nan]])"
      ]
     },
     "execution_count": 3,
     "metadata": {},
     "output_type": "execute_result"
    }
   ],
   "source": [
    "#On peut également transformer le fichier en .txt et l'ouvrir de la meme manière\n"
   ]
  },
  {
   "cell_type": "code",
   "execution_count": 4,
   "metadata": {},
   "outputs": [],
   "source": [
    "data2 = np.genfromtxt('ionosphere.data',delimiter=\",\",dtype='|S5' )"
   ]
  },
  {
   "cell_type": "code",
   "execution_count": 5,
   "metadata": {},
   "outputs": [
    {
     "data": {
      "text/plain": [
       "array([[b'1', b'0', b'0.995', ..., b'0.186', b'-0.45', b'g'],\n",
       "       [b'1', b'0', b'1', ..., b'-0.13', b'-0.02', b'b'],\n",
       "       [b'1', b'0', b'1', ..., b'0.560', b'-0.38', b'g'],\n",
       "       ...,\n",
       "       [b'1', b'0', b'0.947', ..., b'0.926', b'-0.00', b'g'],\n",
       "       [b'1', b'0', b'0.906', ..., b'0.874', b'-0.16', b'g'],\n",
       "       [b'1', b'0', b'0.847', ..., b'0.857', b'-0.06', b'g']], dtype='|S5')"
      ]
     },
     "execution_count": 5,
     "metadata": {},
     "output_type": "execute_result"
    }
   ],
   "source": [
    "data2"
   ]
  },
  {
   "cell_type": "code",
   "execution_count": 2,
   "metadata": {},
   "outputs": [],
   "source": [
    "\n",
    "X = data[:,0:-1].astype(float)\n",
    "y = (data[:,-1]==b'g').astype(int)"
   ]
  },
  {
   "cell_type": "markdown",
   "metadata": {},
   "source": [
    "Vérifiez que vous avez la bonne taille pour la base de donnée et pour le nombre d'attribut des exemples."
   ]
  },
  {
   "cell_type": "code",
   "execution_count": 3,
   "metadata": {},
   "outputs": [
    {
     "name": "stdout",
     "output_type": "stream",
     "text": [
      "Dimension de X: (351, 34) \n",
      "Dimension de y: (351,)\n"
     ]
    }
   ],
   "source": [
    "print('Dimension de X:',X.shape,'\\nDimension de y:',y.shape)"
   ]
  },
  {
   "cell_type": "markdown",
   "metadata": {},
   "source": [
    "### 2.2 - Découpage en un ensemble d'entrainement et un de test"
   ]
  },
  {
   "cell_type": "markdown",
   "metadata": {},
   "source": [
    "La base de donnée contient un unique ensemble de donnée contenant toutes les données. Il va falloir construire au moins deux ensembles distincts, l'un pour entraîner notre classifieur et l'autre pour le tester.\n",
    "\n",
    "Le code suivant permet de créer ces deux ensembles de manière équilibrée (autant d'image dans l'ensemble d'entrainement que dans l'ensemble de test): \n"
   ]
  },
  {
   "cell_type": "code",
   "execution_count": 4,
   "metadata": {},
   "outputs": [],
   "source": [
    "X_train, X_test, y_train, y_test = train_test_split(X, y, test_size=0.5)"
   ]
  },
  {
   "cell_type": "markdown",
   "metadata": {},
   "source": [
    "Modifier le code précédent afin d'avoir 2/3 des exemples pour l’entraînement et 1/3 pour le test. \n",
    "Vérifier que les deux ensembles que vous avez créés ont le bon nombre d'exemple."
   ]
  },
  {
   "cell_type": "code",
   "execution_count": 5,
   "metadata": {},
   "outputs": [
    {
     "name": "stdout",
     "output_type": "stream",
     "text": [
      "Dimension de X_train: (234, 34) \n",
      "Dimension de X_test: (117, 34)\n",
      "Proportion de X_train: 0.6666666666666666 \n",
      "Proportion de X_test: 0.3333333333333333\n"
     ]
    }
   ],
   "source": [
    "X_train, X_test, y_train, y_test = train_test_split(X, y, test_size=1/3)\n",
    "print('Dimension de X_train:',X_train.shape,'\\nDimension de X_test:',X_test.shape)\n",
    "print('Proportion de X_train:',X_train.shape[0]/X.shape[0],'\\nProportion de X_test:',X_test.shape[0]/X.shape[0])"
   ]
  },
  {
   "cell_type": "markdown",
   "metadata": {},
   "source": [
    "3 - Comparaison de différent critère d'évaluation des performances\n",
    "-----"
   ]
  },
  {
   "cell_type": "markdown",
   "metadata": {},
   "source": [
    "Nous allons tester dans cette partie plusieurs critères d'évaluation des performances d'un algorithme d'apprentissage de type SVM."
   ]
  },
  {
   "cell_type": "markdown",
   "metadata": {},
   "source": [
    "Commencez par apprendre un SVM linéaire sur vos données d'apprentissage."
   ]
  },
  {
   "cell_type": "code",
   "execution_count": 6,
   "metadata": {},
   "outputs": [],
   "source": [
    "svc = svm.SVC(gamma='scale').fit(X_train,y_train)"
   ]
  },
  {
   "cell_type": "markdown",
   "metadata": {},
   "source": [
    "Nous allons maintenant évaluer les performances de ce SVM sur la base de test. Nous allons pour cela utiliser différentes mesures de performances."
   ]
  },
  {
   "cell_type": "markdown",
   "metadata": {},
   "source": [
    "Pour chacune des méthodes d'évaluation que vous testerez, n'oubliez pas de vérifier si vous savez bien ce qu'il représente et comment le calculer."
   ]
  },
  {
   "cell_type": "markdown",
   "metadata": {},
   "source": [
    "### 3.1 - Le nombre d'erreur de classification"
   ]
  },
  {
   "cell_type": "markdown",
   "metadata": {},
   "source": [
    "Le premier critère que nous allons calculer, est le nombre moyenne d'erreur de notre classifieur. Pour cela commencez par calculer les labels prédits par votre SVM sur les données de test (utilisez la méthode `predict` du SVM). Puis calculer la proportion d'erreur à l'aide de la fonction `accuracy_score` (https://scikit-learn.org/stable/modules/generated/sklearn.metrics.accuracy_score.html ). "
   ]
  },
  {
   "cell_type": "code",
   "execution_count": 7,
   "metadata": {},
   "outputs": [
    {
     "name": "stdout",
     "output_type": "stream",
     "text": [
      "ACC = 0.9230769230769231\n"
     ]
    }
   ],
   "source": [
    "y_pred = svc.predict(X_test)\n",
    "print('ACC =',accuracy_score(y_test, y_pred))"
   ]
  },
  {
   "cell_type": "markdown",
   "metadata": {},
   "source": [
    "Votre classifieur donne-t-il de bonne performance ? "
   ]
  },
  {
   "cell_type": "raw",
   "metadata": {},
   "source": [
    "À remplir."
   ]
  },
  {
   "cell_type": "markdown",
   "metadata": {},
   "source": [
    "### 3.2 - La matrice de confusion"
   ]
  },
  {
   "cell_type": "markdown",
   "metadata": {},
   "source": [
    "La matrice de confusion d'un problème de classification est une matrice représentant la performance de classification d'un algorithme multi-classe pour chacune des classes. Chaque ligne représente une classe réelle tandis que chaque colonne représente le nombre d'exemple classé par le classifieur dans cette classe. Par exemple, si la valeur de la case à la ligne 2, colonne 3 est 12, il y a 12 exemples de la classe 2 qui ont été attribué à la classe 3. L'objectif est d'avoir que des valeurs sur la diagonale et des zéros partout ailleurs. Calculez la matrice de confusion avec la fonction `confusion_matrix` ( https://scikit-learn.org/stable/modules/generated/sklearn.metrics.confusion_matrix.html )."
   ]
  },
  {
   "cell_type": "code",
   "execution_count": 8,
   "metadata": {},
   "outputs": [
    {
     "name": "stdout",
     "output_type": "stream",
     "text": [
      "Matrice de confusion:\n",
      " [[36  9]\n",
      " [ 0 72]]\n"
     ]
    }
   ],
   "source": [
    "print('Matrice de confusion:\\n',confusion_matrix(y_test, y_pred))"
   ]
  },
  {
   "cell_type": "markdown",
   "metadata": {},
   "source": [
    "Que pouvez vous dire sur votre algorithme en regardant les valeurs de cette matrice ?"
   ]
  },
  {
   "cell_type": "raw",
   "metadata": {},
   "source": [
    "À remplir."
   ]
  },
  {
   "cell_type": "markdown",
   "metadata": {},
   "source": [
    "### 3.3 - L'aire sous la courbe ROC"
   ]
  },
  {
   "cell_type": "markdown",
   "metadata": {},
   "source": [
    "Affichez la courbe ROC (vous pouvez réutiliser le code du TP précédent). Calculez l'aire sous la courbe à l'aide de la fonction `auc` (comme dans le TP précédent). Comparez la valeur trouvée au résultat de la fonction `roc_auc_score` ( https://scikit-learn.org/stable/modules/generated/sklearn.metrics.roc_auc_score.html ). \n",
    "**Attention: cette fonction prend en argument les valeurs de la fonction de decision et non les labels prédit.** Pensez à utiliser la méthode `decision_function` de `svc`."
   ]
  },
  {
   "cell_type": "code",
   "execution_count": 9,
   "metadata": {},
   "outputs": [
    {
     "data": {
      "image/png": "[encoded data removed]",
      "text/plain": [
       "<Figure size 432x288 with 1 Axes>"
      ]
     },
     "metadata": {
      "needs_background": "light"
     },
     "output_type": "display_data"
    },
    {
     "name": "stdout",
     "output_type": "stream",
     "text": [
      "ROC auc (roc_curve et auc) 0.9929012345679012\n",
      "ROC auc (  roc_auc_score ) 0.9929012345679012\n"
     ]
    }
   ],
   "source": [
    "score_pred = svc.decision_function(X_test)\n",
    "\n",
    "fpr,tpr,thresholds = roc_curve(y_test,score_pred)\n",
    "roc_auc = auc(fpr,tpr)\n",
    "plt.clf()\n",
    "plt.plot(fpr, tpr, label='Courbe ROC (aire = %0.2f)' % roc_auc)\n",
    "plt.plot([0, 1], [0, 1], 'k--')\n",
    "plt.xlim([0.0, 1.0])\n",
    "plt.ylim([0.0, 1.0])\n",
    "plt.xlabel('Taux de Faux Positif')\n",
    "plt.ylabel('Taux de Vrai Positif')\n",
    "#plt.title('Receiver operating characteristic example')\n",
    "plt.legend(loc=\"lower right\")\n",
    "plt.show()\n",
    "\n",
    "print('ROC auc (roc_curve et auc)',roc_auc)\n",
    "print('ROC auc (  roc_auc_score )',roc_auc_score(y_test, score_pred))"
   ]
  },
  {
   "cell_type": "markdown",
   "metadata": {},
   "source": [
    "### 3.4 - L'aire sous la courbe de rappel/précision"
   ]
  },
  {
   "cell_type": "markdown",
   "metadata": {},
   "source": [
    "Affichez la courbe de rappel/précision. Le code est très similaire à celui de la courbe ROC, il faut juste utiliser la fonction `precision_recall_curve` au lieu de `roc_curve` et `average_precision_score` à la place de `roc_auc_score`. Calculez l'aire sous la courbe et comparez la valeur trouvée au résultat de la fonction. "
   ]
  },
  {
   "cell_type": "code",
   "execution_count": 10,
   "metadata": {},
   "outputs": [
    {
     "data": {
      "image/png": "[encoded data removed]",
      "text/plain": [
       "<Figure size 432x288 with 1 Axes>"
      ]
     },
     "metadata": {
      "needs_background": "light"
     },
     "output_type": "display_data"
    },
    {
     "name": "stdout",
     "output_type": "stream",
     "text": [
      "Aire sous la courbe Rappel/Précision (precision_recall_curve et auc) 0.995437607516175\n",
      "Aire sous la courbe Rappel/Précision (    average_precision_score  ) 0.9954702902495366\n"
     ]
    }
   ],
   "source": [
    "score_pred = svc.decision_function(X_test)\n",
    "\n",
    "precision,recall,thresholds = precision_recall_curve(y_test,score_pred)\n",
    "ap_auc = auc(recall,precision)\n",
    "plt.clf()\n",
    "plt.plot(recall,precision, label='Courbe de rappel/précision (aire = %0.2f)' % ap_auc)\n",
    "plt.plot([0, 1], [0, 1], 'k--')\n",
    "plt.xlim([0.0, 1.0])\n",
    "plt.ylim([0.0, 1.0])\n",
    "plt.xlabel('Rappel')\n",
    "plt.ylabel('Précision')\n",
    "plt.legend(loc=\"lower right\")\n",
    "plt.show()\n",
    "\n",
    "print('Aire sous la courbe Rappel/Précision (precision_recall_curve et auc)',ap_auc)\n",
    "print('Aire sous la courbe Rappel/Précision (    average_precision_score  )',average_precision_score(y_test, score_pred))"
   ]
  },
  {
   "cell_type": "markdown",
   "metadata": {},
   "source": [
    "4 - Cross-validation des paramètres de l'algorithme d'apprentissage\n",
    "--------"
   ]
  },
  {
   "cell_type": "markdown",
   "metadata": {},
   "source": [
    "Nous allons maintenant nous intéresser à trouver le meilleur jeu de paramètre pour notre SVM. Nous allons tester différent type de noyaux ainsi que différentes valeurs de paramètres.  \n",
    "\n",
    "Pour cela nous aurons besoin d'utiliser un ensemble de validation pour trouver les meilleurs paramètres. Pour réaliser cela, nous nous appuierons sur la classe `GridSearchCV`. \n",
    "\n",
    "Étudiez le code suivant, trouvant les meilleurs paramètres parmi une liste de valeurs possibles pour optimiser un classifieur selon le nombre d'erreur de classification  :"
   ]
  },
  {
   "cell_type": "code",
   "execution_count": 11,
   "metadata": {},
   "outputs": [
    {
     "name": "stdout",
     "output_type": "stream",
     "text": [
      "\u001b[34mMeilleur jeu de paramètre trouvé parmi les paramètres proposés:\u001b[0m\n",
      "SVC(C=10, cache_size=200, class_weight=None, coef0=0.0,\n",
      "  decision_function_shape='ovr', degree=3, gamma=0.1, kernel='rbf',\n",
      "  max_iter=-1, probability=True, random_state=None, shrinking=True,\n",
      "  tol=0.001, verbose=False) \n",
      "\n",
      "\u001b[34mGrille des scores par combinaison de paramètres testés:\u001b[0m\n",
      "0.654 (+/-0.005) for {'C': 0.01, 'gamma': 0.1, 'kernel': 'rbf'}\n",
      "0.654 (+/-0.005) for {'C': 0.01, 'gamma': 0.01, 'kernel': 'rbf'}\n",
      "0.654 (+/-0.005) for {'C': 0.01, 'gamma': 0.001, 'kernel': 'rbf'}\n",
      "0.654 (+/-0.005) for {'C': 0.01, 'gamma': 0.0001, 'kernel': 'rbf'}\n",
      "0.654 (+/-0.005) for {'C': 0.1, 'gamma': 0.01, 'kernel': 'rbf'}\n",
      "0.654 (+/-0.005) for {'C': 0.1, 'gamma': 0.001, 'kernel': 'rbf'}\n",
      "0.654 (+/-0.005) for {'C': 0.1, 'gamma': 0.0001, 'kernel': 'rbf'}\n",
      "0.654 (+/-0.005) for {'C': 1, 'gamma': 0.001, 'kernel': 'rbf'}\n",
      "0.654 (+/-0.005) for {'C': 1, 'gamma': 0.0001, 'kernel': 'rbf'}\n",
      "0.654 (+/-0.005) for {'C': 10, 'gamma': 0.0001, 'kernel': 'rbf'}\n",
      "0.752 (+/-0.043) for {'C': 0.1, 'gamma': 0.1, 'kernel': 'rbf'}\n",
      "0.799 (+/-0.019) for {'C': 0.01, 'kernel': 'linear'}\n",
      "0.846 (+/-0.040) for {'C': 1, 'kernel': 'linear'}\n",
      "0.850 (+/-0.035) for {'C': 100, 'kernel': 'linear'}\n",
      "0.850 (+/-0.042) for {'C': 1000, 'kernel': 'linear'}\n",
      "0.859 (+/-0.035) for {'C': 1, 'gamma': 0.01, 'kernel': 'rbf'}\n",
      "0.863 (+/-0.050) for {'C': 10, 'kernel': 'linear'}\n",
      "0.868 (+/-0.027) for {'C': 1000, 'gamma': 0.0001, 'kernel': 'rbf'}\n",
      "0.868 (+/-0.029) for {'C': 0.1, 'kernel': 'linear'}\n",
      "0.868 (+/-0.030) for {'C': 10, 'gamma': 0.001, 'kernel': 'rbf'}\n",
      "0.872 (+/-0.034) for {'C': 100, 'gamma': 0.0001, 'kernel': 'rbf'}\n",
      "0.876 (+/-0.030) for {'C': 100, 'gamma': 0.001, 'kernel': 'rbf'}\n",
      "0.885 (+/-0.026) for {'C': 1000, 'gamma': 0.01, 'kernel': 'rbf'}\n",
      "0.885 (+/-0.050) for {'C': 1000, 'gamma': 0.001, 'kernel': 'rbf'}\n",
      "0.897 (+/-0.025) for {'C': 1000, 'gamma': 0.1, 'kernel': 'rbf'}\n",
      "0.906 (+/-0.036) for {'C': 100, 'gamma': 0.01, 'kernel': 'rbf'}\n",
      "0.915 (+/-0.030) for {'C': 100, 'gamma': 0.1, 'kernel': 'rbf'}\n",
      "0.915 (+/-0.032) for {'C': 10, 'gamma': 0.01, 'kernel': 'rbf'}\n",
      "0.927 (+/-0.041) for {'C': 1, 'gamma': 0.1, 'kernel': 'rbf'}\n",
      "0.940 (+/-0.031) for {'C': 10, 'gamma': 0.1, 'kernel': 'rbf'}\n"
     ]
    },
    {
     "name": "stderr",
     "output_type": "stream",
     "text": [
      "/usr/local/lib/python3.7/site-packages/sklearn/model_selection/_search.py:841: DeprecationWarning: The default of the `iid` parameter will change from True to False in version 0.22 and will be removed in 0.24. This will change numeric results when test-set sizes are unequal.\n",
      "  DeprecationWarning)\n"
     ]
    }
   ],
   "source": [
    "tuned_parameters = [{'kernel': ['rbf'], 'gamma': [1e-1, 1e-2, 1e-3, 1e-4],\n",
    "                     'C': [1e-2,1e-1,1, 10, 100, 1000]},\n",
    "                    {'kernel': ['linear'], 'C': [1e-2,1e-1,1, 10, 100, 1000]}]\n",
    "\n",
    "clf_grid = GridSearchCV(svm.SVC(probability=True), \n",
    "       tuned_parameters, cv=5, scoring='accuracy')\n",
    "clf_grid.fit(X_train, y_train)\n",
    "\n",
    "print('\\033[34mMeilleur jeu de paramètre trouvé parmi les paramètres proposés:\\033[0m')\n",
    "print(clf_grid.best_estimator_,'\\n')\n",
    "print(\"\\033[34mGrille des scores par combinaison de paramètres testés:\\033[0m\")\n",
    "    \n",
    "elements = clf_grid.cv_results_\n",
    "for i in np.argsort(elements['mean_test_score']):\n",
    "    print(\"%0.3f (+/-%0.03f) for %r\"% (elements['mean_test_score'][i],\n",
    "                                       elements['std_test_score'][i],\n",
    "                                       elements['params'][i]))"
   ]
  },
  {
   "cell_type": "markdown",
   "metadata": {},
   "source": [
    "Est-ce que tous les jeux de paramètre sont équivalents ? Y-a-t il une combinaison meilleure que les autres ?"
   ]
  },
  {
   "cell_type": "raw",
   "metadata": {},
   "source": [
    "À compléter"
   ]
  },
  {
   "cell_type": "markdown",
   "metadata": {},
   "source": [
    "Testez une cross-validation selon un autre critère de performance. Vous pouvez utiliser par exemple, l'aire sous la courbe ROC (`roc_auc`) ou  l'aire sous la courbe de rappel/précision (`average_precision`)."
   ]
  },
  {
   "cell_type": "code",
   "execution_count": 12,
   "metadata": {},
   "outputs": [
    {
     "name": "stderr",
     "output_type": "stream",
     "text": [
      "/usr/local/lib/python3.7/site-packages/sklearn/model_selection/_search.py:841: DeprecationWarning: The default of the `iid` parameter will change from True to False in version 0.22 and will be removed in 0.24. This will change numeric results when test-set sizes are unequal.\n",
      "  DeprecationWarning)\n"
     ]
    },
    {
     "name": "stdout",
     "output_type": "stream",
     "text": [
      "\u001b[33mCritère de sélection: roc_auc\n",
      "\u001b[34mMeilleur jeu de paramètre trouvé parmi les paramètres proposés:\u001b[0m\n",
      "SVC(C=10, cache_size=200, class_weight=None, coef0=0.0,\n",
      "  decision_function_shape='ovr', degree=3, gamma=0.1, kernel='rbf',\n",
      "  max_iter=-1, probability=True, random_state=None, shrinking=True,\n",
      "  tol=0.001, verbose=False) \n",
      "\n",
      "\u001b[34mGrille des scores par combinaison de paramètres testés:\u001b[0m\n",
      "0.829 (+/-0.040) for {'C': 100, 'kernel': 'linear'}\n",
      "0.833 (+/-0.066) for {'C': 10, 'kernel': 'linear'}\n",
      "0.842 (+/-0.038) for {'C': 1, 'kernel': 'linear'}\n",
      "0.850 (+/-0.025) for {'C': 1000, 'kernel': 'linear'}\n",
      "0.860 (+/-0.048) for {'C': 1000, 'gamma': 0.001, 'kernel': 'rbf'}\n",
      "0.877 (+/-0.052) for {'C': 0.01, 'gamma': 0.0001, 'kernel': 'rbf'}\n",
      "0.902 (+/-0.035) for {'C': 0.1, 'gamma': 0.0001, 'kernel': 'rbf'}\n",
      "0.906 (+/-0.036) for {'C': 0.01, 'gamma': 0.001, 'kernel': 'rbf'}\n",
      "0.911 (+/-0.027) for {'C': 1000, 'gamma': 0.0001, 'kernel': 'rbf'}\n",
      "0.917 (+/-0.031) for {'C': 0.1, 'kernel': 'linear'}\n",
      "0.920 (+/-0.029) for {'C': 10, 'gamma': 0.0001, 'kernel': 'rbf'}\n",
      "0.921 (+/-0.030) for {'C': 0.01, 'kernel': 'linear'}\n",
      "0.922 (+/-0.030) for {'C': 1, 'gamma': 0.0001, 'kernel': 'rbf'}\n",
      "0.925 (+/-0.029) for {'C': 1, 'gamma': 0.001, 'kernel': 'rbf'}\n",
      "0.925 (+/-0.045) for {'C': 1000, 'gamma': 0.01, 'kernel': 'rbf'}\n",
      "0.925 (+/-0.036) for {'C': 100, 'gamma': 0.0001, 'kernel': 'rbf'}\n",
      "0.926 (+/-0.033) for {'C': 100, 'gamma': 0.001, 'kernel': 'rbf'}\n",
      "0.927 (+/-0.028) for {'C': 0.1, 'gamma': 0.001, 'kernel': 'rbf'}\n",
      "0.927 (+/-0.037) for {'C': 10, 'gamma': 0.001, 'kernel': 'rbf'}\n",
      "0.942 (+/-0.041) for {'C': 10, 'gamma': 0.01, 'kernel': 'rbf'}\n",
      "0.942 (+/-0.039) for {'C': 1, 'gamma': 0.01, 'kernel': 'rbf'}\n",
      "0.943 (+/-0.039) for {'C': 0.01, 'gamma': 0.01, 'kernel': 'rbf'}\n",
      "0.945 (+/-0.038) for {'C': 0.1, 'gamma': 0.01, 'kernel': 'rbf'}\n",
      "0.956 (+/-0.034) for {'C': 100, 'gamma': 0.01, 'kernel': 'rbf'}\n",
      "0.957 (+/-0.019) for {'C': 1000, 'gamma': 0.1, 'kernel': 'rbf'}\n",
      "0.959 (+/-0.020) for {'C': 100, 'gamma': 0.1, 'kernel': 'rbf'}\n",
      "0.964 (+/-0.027) for {'C': 0.1, 'gamma': 0.1, 'kernel': 'rbf'}\n",
      "0.965 (+/-0.027) for {'C': 0.01, 'gamma': 0.1, 'kernel': 'rbf'}\n",
      "0.973 (+/-0.016) for {'C': 1, 'gamma': 0.1, 'kernel': 'rbf'}\n",
      "0.977 (+/-0.012) for {'C': 10, 'gamma': 0.1, 'kernel': 'rbf'}\n",
      "\n",
      "\n",
      "\u001b[33mCritère de sélection: average_precision\n",
      "\u001b[34mMeilleur jeu de paramètre trouvé parmi les paramètres proposés:\u001b[0m\n",
      "SVC(C=10, cache_size=200, class_weight=None, coef0=0.0,\n",
      "  decision_function_shape='ovr', degree=3, gamma=0.1, kernel='rbf',\n",
      "  max_iter=-1, probability=True, random_state=None, shrinking=True,\n",
      "  tol=0.001, verbose=False) \n",
      "\n",
      "\u001b[34mGrille des scores par combinaison de paramètres testés:\u001b[0m\n",
      "0.834 (+/-0.060) for {'C': 100, 'kernel': 'linear'}\n",
      "0.837 (+/-0.084) for {'C': 10, 'kernel': 'linear'}\n",
      "0.851 (+/-0.024) for {'C': 1000, 'kernel': 'linear'}\n",
      "0.856 (+/-0.052) for {'C': 1, 'kernel': 'linear'}\n",
      "0.864 (+/-0.063) for {'C': 1000, 'gamma': 0.001, 'kernel': 'rbf'}\n",
      "0.911 (+/-0.047) for {'C': 0.01, 'gamma': 0.0001, 'kernel': 'rbf'}\n",
      "0.921 (+/-0.044) for {'C': 1000, 'gamma': 0.0001, 'kernel': 'rbf'}\n",
      "0.928 (+/-0.041) for {'C': 0.1, 'gamma': 0.0001, 'kernel': 'rbf'}\n",
      "0.930 (+/-0.042) for {'C': 0.01, 'gamma': 0.001, 'kernel': 'rbf'}\n",
      "0.931 (+/-0.040) for {'C': 0.1, 'kernel': 'linear'}\n",
      "0.933 (+/-0.041) for {'C': 100, 'gamma': 0.001, 'kernel': 'rbf'}\n",
      "0.936 (+/-0.058) for {'C': 1000, 'gamma': 0.01, 'kernel': 'rbf'}\n",
      "0.941 (+/-0.040) for {'C': 0.01, 'kernel': 'linear'}\n",
      "0.941 (+/-0.037) for {'C': 10, 'gamma': 0.0001, 'kernel': 'rbf'}\n",
      "0.941 (+/-0.044) for {'C': 100, 'gamma': 0.0001, 'kernel': 'rbf'}\n",
      "0.942 (+/-0.044) for {'C': 10, 'gamma': 0.001, 'kernel': 'rbf'}\n",
      "0.943 (+/-0.038) for {'C': 1, 'gamma': 0.0001, 'kernel': 'rbf'}\n",
      "0.944 (+/-0.038) for {'C': 1, 'gamma': 0.001, 'kernel': 'rbf'}\n",
      "0.945 (+/-0.038) for {'C': 0.1, 'gamma': 0.001, 'kernel': 'rbf'}\n",
      "0.952 (+/-0.044) for {'C': 1, 'gamma': 0.01, 'kernel': 'rbf'}\n",
      "0.953 (+/-0.045) for {'C': 0.01, 'gamma': 0.01, 'kernel': 'rbf'}\n",
      "0.954 (+/-0.031) for {'C': 10, 'gamma': 0.01, 'kernel': 'rbf'}\n",
      "0.955 (+/-0.044) for {'C': 0.1, 'gamma': 0.01, 'kernel': 'rbf'}\n",
      "0.969 (+/-0.031) for {'C': 100, 'gamma': 0.01, 'kernel': 'rbf'}\n",
      "0.973 (+/-0.016) for {'C': 1000, 'gamma': 0.1, 'kernel': 'rbf'}\n",
      "0.974 (+/-0.016) for {'C': 100, 'gamma': 0.1, 'kernel': 'rbf'}\n",
      "0.977 (+/-0.017) for {'C': 0.1, 'gamma': 0.1, 'kernel': 'rbf'}\n",
      "0.978 (+/-0.017) for {'C': 0.01, 'gamma': 0.1, 'kernel': 'rbf'}\n",
      "0.983 (+/-0.011) for {'C': 1, 'gamma': 0.1, 'kernel': 'rbf'}\n",
      "0.986 (+/-0.007) for {'C': 10, 'gamma': 0.1, 'kernel': 'rbf'}\n"
     ]
    },
    {
     "name": "stderr",
     "output_type": "stream",
     "text": [
      "/usr/local/lib/python3.7/site-packages/sklearn/model_selection/_search.py:841: DeprecationWarning: The default of the `iid` parameter will change from True to False in version 0.22 and will be removed in 0.24. This will change numeric results when test-set sizes are unequal.\n",
      "  DeprecationWarning)\n"
     ]
    }
   ],
   "source": [
    "clf_grid = GridSearchCV(svm.SVC(probability=True), \n",
    "       tuned_parameters, cv=5, scoring='roc_auc')\n",
    "clf_grid.fit(X_train, y_train)\n",
    "\n",
    "print('\\033[33mCritère de sélection: roc_auc')\n",
    "print('\\033[34mMeilleur jeu de paramètre trouvé parmi les paramètres proposés:\\033[0m')\n",
    "print(clf_grid.best_estimator_,'\\n')\n",
    "print(\"\\033[34mGrille des scores par combinaison de paramètres testés:\\033[0m\")\n",
    "    \n",
    "elements = clf_grid.cv_results_\n",
    "for i in np.argsort(elements['mean_test_score']):\n",
    "    print(\"%0.3f (+/-%0.03f) for %r\"% (elements['mean_test_score'][i],\n",
    "                                       elements['std_test_score'][i],\n",
    "                                       elements['params'][i]))\n",
    "    \n",
    "##########################################################################################\n",
    "print('\\n\\n\\033[33mCritère de sélection: average_precision')\n",
    "clf_grid = GridSearchCV(svm.SVC(probability=True), \n",
    "       tuned_parameters, cv=5, scoring='average_precision')\n",
    "clf_grid.fit(X_train, y_train)\n",
    "\n",
    "print('\\033[34mMeilleur jeu de paramètre trouvé parmi les paramètres proposés:\\033[0m')\n",
    "print(clf_grid.best_estimator_,'\\n')\n",
    "print(\"\\033[34mGrille des scores par combinaison de paramètres testés:\\033[0m\")\n",
    "    \n",
    "elements = clf_grid.cv_results_\n",
    "for i in np.argsort(elements['mean_test_score']):\n",
    "    print(\"%0.3f (+/-%0.03f) for %r\"% (elements['mean_test_score'][i],\n",
    "                                       elements['std_test_score'][i],\n",
    "                                       elements['params'][i]))    "
   ]
  },
  {
   "cell_type": "markdown",
   "metadata": {},
   "source": [
    "Selon ces différents critères, trouvez-vous toujours les même jeux de paramètres optimales, le même classement entre les différents jeux de paramètres ?  "
   ]
  },
  {
   "cell_type": "raw",
   "metadata": {},
   "source": [
    "À compléter"
   ]
  },
  {
   "cell_type": "markdown",
   "metadata": {},
   "source": [
    "Testez maintenant les paramètres optimaux que vous venez de trouver sur les données de test. Quelles sont les performances que vous obtenez ? "
   ]
  },
  {
   "cell_type": "code",
   "execution_count": 13,
   "metadata": {},
   "outputs": [
    {
     "name": "stdout",
     "output_type": "stream",
     "text": [
      "\u001b[33mCross validation selon l'average_precision\u001b[0m\n",
      "\n",
      "\u001b[34mACC ( svm par défaut ):\u001b[0m 0.9230769230769231\n",
      "\u001b[34mACC (svm cross-validé):\u001b[0m 0.9487179487179487\n",
      "\n",
      "\u001b[34mMatrice de confusion ( svm par défaut ):\u001b[0m\n",
      " [[36  9]\n",
      " [ 0 72]]\n",
      "\u001b[34mMatrice de confusion (svm cross-validé):\u001b[0m\n",
      " [[39  6]\n",
      " [ 0 72]]\n",
      "\n",
      "\u001b[34mROC auc ( svm par défaut ):\u001b[0m 0.9929012345679012\n",
      "\u001b[34mROC auc (svm cross-validé):\u001b[0m 0.9904320987654321\n",
      "\n",
      "\u001b[34mAire sous la courbe Rappel/Précision ( svm par défaut )\u001b[0m 0.9954702902495366\n",
      "\u001b[34mAire sous la courbe Rappel/Précision (svm cross-validé)\u001b[0m 0.9941539920019755\n"
     ]
    }
   ],
   "source": [
    "y_pred2 = clf_grid.predict(X_test)\n",
    "score_pred2 = clf_grid.decision_function(X_test)\n",
    "print('\\033[33mCross validation selon l\\'average_precision\\033[0m')\n",
    "print()\n",
    "\n",
    "print('\\033[34mACC ( svm par défaut ):\\033[0m',accuracy_score(y_test, y_pred))\n",
    "print('\\033[34mACC (svm cross-validé):\\033[0m',accuracy_score(y_test, y_pred2))\n",
    "print()\n",
    "\n",
    "print('\\033[34mMatrice de confusion ( svm par défaut ):\\033[0m\\n',confusion_matrix(y_test, y_pred))\n",
    "print('\\033[34mMatrice de confusion (svm cross-validé):\\033[0m\\n',confusion_matrix(y_test, y_pred2))\n",
    "print()\n",
    "\n",
    "print('\\033[34mROC auc ( svm par défaut ):\\033[0m',roc_auc_score(y_test, score_pred))\n",
    "print('\\033[34mROC auc (svm cross-validé):\\033[0m',roc_auc_score(y_test, score_pred2))\n",
    "print()\n",
    "\n",
    "print('\\033[34mAire sous la courbe Rappel/Précision ( svm par défaut )\\033[0m',average_precision_score(y_test, score_pred))\n",
    "print('\\033[34mAire sous la courbe Rappel/Précision (svm cross-validé)\\033[0m',average_precision_score(y_test, score_pred2))"
   ]
  },
  {
   "cell_type": "raw",
   "metadata": {},
   "source": [
    "À compléter"
   ]
  }
 ],
 "metadata": {
  "kernelspec": {
   "display_name": "Python 3",
   "language": "python",
   "name": "python3"
  },
  "language_info": {
   "codemirror_mode": {
    "name": "ipython",
    "version": 3
   },
   "file_extension": ".py",
   "mimetype": "text/x-python",
   "name": "python",
   "nbconvert_exporter": "python",
   "pygments_lexer": "ipython3",
   "version": "3.6.9"
  }
 },
 "nbformat": 4,
 "nbformat_minor": 2
}
